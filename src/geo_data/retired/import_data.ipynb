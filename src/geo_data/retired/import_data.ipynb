{
 "cells": [
  {
   "cell_type": "code",
   "execution_count": null,
   "metadata": {},
   "outputs": [],
   "source": [
    "import geopandas as gpd\n",
    "\n",
    "geo_df = gpd.read_file('../geo_data/ref-nuts-2021/NUTS_RG_01M_2021_4326.geojson')\n",
    "geo_df.rename(columns={'NUTS_ID': 'nuts_id'\n",
    "                       , 'LEVL_CODE': 'levl_code'\n",
    "                       , 'CNTR_CODE': 'cntr_code'\n",
    "                       , 'NAME_LATN': 'name_latin'\n",
    "                       , 'NUTS_NAME': 'nuts_name'\n",
    "                       , 'MOUNT_TYPE': 'mount_type'\n",
    "                       , 'URBN_TYPE': 'urban_type'\n",
    "                       , 'COAST_TYPE': 'coast_type'\n",
    "                       , 'FID': 'fid'\n",
    "                       }\n",
    "                , inplace=True)\n",
    "\n",
    "geo_df = geo_df[geo_df['nuts_id'].str.contains(\"AT\", case=False)]\n",
    "geo_df"
   ]
  },
  {
   "cell_type": "code",
   "execution_count": null,
   "metadata": {},
   "outputs": [],
   "source": [
    "from wifor_db import create_class\n",
    "\n",
    "REGIONS = create_class('../wifor_db/tables/regions.json')\n",
    "REGIONS.create_table()\n",
    "REGIONS.add_data(geo_df, REGIONS.columns)\n",
    "\n",
    "# Show\n",
    "REGIONS.create_session().query(REGIONS).filter_by(nuts_id=\"AT\").all()"
   ]
  },
  {
   "cell_type": "code",
   "execution_count": null,
   "metadata": {},
   "outputs": [],
   "source": [
    "import eurostat\n",
    "import pandas as pd\n",
    "\n",
    "df = eurostat.get_data_df(\"lfst_r_lfe2en2\", False)\n",
    "df.rename(columns={'geo\\\\TIME_PERIOD': 'nuts_id'}, inplace=True)\n",
    "df = df.melt(id_vars=['freq', 'nace_r2', 'age', 'sex', 'unit', 'nuts_id'], \n",
    "                  var_name='year', \n",
    "                  value_name='employment')\n",
    "df['year'] = pd.to_datetime(df['year'], format='%Y')\n",
    "\n",
    "df = df[df['nuts_id'].str.contains(\"AT\", case=False)]\n",
    "df"
   ]
  },
  {
   "cell_type": "code",
   "execution_count": null,
   "metadata": {},
   "outputs": [],
   "source": [
    "from wifor_db import create_class\n",
    "\n",
    "LFST_R_LFE2EN2 = create_class('../wifor_db/tables/lfst_r_lfe2en2.json')\n",
    "LFST_R_LFE2EN2.create_table()\n",
    "LFST_R_LFE2EN2.add_data(df, LFST_R_LFE2EN2.columns)\n",
    "\n",
    "# Show\n",
    "#LFST_R_LFE2EN2.create_session().query(LFST_R_LFE2EN2).all()"
   ]
  },
  {
   "cell_type": "code",
   "execution_count": null,
   "metadata": {},
   "outputs": [],
   "source": [
    "LFST_R_LFE2EN2.create_session().query(LFST_R_LFE2EN2).filter_by(nuts_id=\"AT\", nace_r2=\"A\", age=\"Y15-24\", sex='F', unit='THS_PER').all()"
   ]
  },
  {
   "cell_type": "code",
   "execution_count": null,
   "metadata": {},
   "outputs": [],
   "source": [
    "from sqlalchemy import Column, String, ForeignKey\n",
    "from sqlalchemy.orm import relationship\n",
    "\n",
    "# Assuming LFST_R_LFE2EN2 and REGIONS are your existing model classes\n",
    "# and they have been defined without relationships\n",
    "\n",
    "# Add a relationship to LFST_R_LFE2EN2 to reference REGIONS\n",
    "LFST_R_LFE2EN2.region = relationship(\"REGIONS\", backref=\"lfst_r_lfe2en2s\")\n",
    "\n",
    "# Add a foreign key to LFST_R_LFE2EN2 if it doesn't exist\n",
    "if 'nuts_id' not in LFST_R_LFE2EN2.__table__.c:\n",
    "    nuts_id_column = Column(String(255), ForeignKey('REGIONS.nuts_id'))\n",
    "    nuts_id_column.create(LFST_R_LFE2EN2.__table__, checkfirst=True)\n",
    "\n",
    "# You can now use this relationship in your queries\n",
    "session = LFST_R_LFE2EN2.create_session()\n",
    "results = (session.query(LFST_R_LFE2EN2, REGIONS.nuts_name)\n",
    "           .join(REGIONS, LFST_R_LFE2EN2.region)\n",
    "           .filter(LFST_R_LFE2EN2.nuts_id == \"AT\")\n",
    "           .all())\n",
    "\n",
    "for record, nuts_name in results:\n",
    "    print(f\"Record: {record}, Region Name: {nuts_name}\")\n"
   ]
  },
  {
   "cell_type": "code",
   "execution_count": null,
   "metadata": {},
   "outputs": [],
   "source": [
    "results = (LFST_R_LFE2EN2.create_session()\n",
    "           .query(LFST_R_LFE2EN2, REGIONS.nuts_name)\n",
    "           .join(REGIONS, LFST_R_LFE2EN2.nuts_id == REGIONS.nuts_id)\n",
    "           .filter_by(nuts_id=\"AT\", nace_r2=\"A\", age=\"Y15-24\", sex='F', unit='THS_PER')\n",
    "           .all())\n",
    "\n",
    "results"
   ]
  },
  {
   "cell_type": "code",
   "execution_count": null,
   "metadata": {},
   "outputs": [],
   "source": [
    "import os\n",
    "from dotenv import load_dotenv\n",
    "from sqlalchemy import create_engine\n",
    "\n",
    "load_dotenv()\n",
    "db_user = os.environ.get('POSTGRES_DB_USER')\n",
    "db_password = os.environ.get('POSTGRES_DB_PASSWORD')\n",
    "db_host = os.environ.get('POSTGRES_DB_HOST')\n",
    "db_name = os.environ.get('POSTGRES_DB_NAME')\n",
    "db_port = os.environ.get('POSTGRES_DB_PORT', 5432)\n",
    "\n",
    "if not all([db_user, db_password, db_host, db_name]):\n",
    "    raise ValueError(\"PostgreSQL credentials are not set properly in .env file.\")\n",
    "\n",
    "db_url = f\"postgresql://{db_user}:{db_password}@{db_host}:{db_port}/{db_name}\"\n",
    "\n",
    "create_engine(db_url, echo=False)"
   ]
  },
  {
   "cell_type": "code",
   "execution_count": 5,
   "metadata": {},
   "outputs": [],
   "source": [
    "import os\n",
    "\n",
    "for dirpath, dirnames, filenames in os.walk(os.getcwd()):\n",
    "    if '.env' in filenames:\n",
    "        dirpath"
   ]
  },
  {
   "cell_type": "code",
   "execution_count": 5,
   "metadata": {},
   "outputs": [
    {
     "data": {
      "text/plain": [
       "'c:\\\\Users\\\\HenryZeheWifOR\\\\OneDrive - WifOR\\\\WiFOR_Platform_Konzept\\\\WifOR_Platform'"
      ]
     },
     "execution_count": 5,
     "metadata": {},
     "output_type": "execute_result"
    }
   ],
   "source": [
    "import os\n",
    "\n",
    "def find_base_directory(current_dir, file_name=\"poetry.lock\"):\n",
    "    \"\"\"\n",
    "    Traverse up the directory tree to find the base directory based on the presence of a specific file.\n",
    "    \n",
    "    :param current_dir: The starting directory (typically where the script is).\n",
    "    :param file_name: The name of the file to look for, default is 'poetry.lock'.\n",
    "    :return: The absolute path to the base directory.\n",
    "    \"\"\"\n",
    "    while not os.path.exists(os.path.join(current_dir, file_name)):\n",
    "        parent_dir = os.path.dirname(current_dir)\n",
    "        if parent_dir == current_dir:\n",
    "            # We've reached the root directory without finding the file\n",
    "            raise FileNotFoundError(f\"Could not find the {file_name} file to identify the base directory.\")\n",
    "        current_dir = parent_dir\n",
    "    return current_dir\n",
    "\n",
    "# Usage\n",
    "current_directory = os.getcwd()\n",
    "base_directory = find_base_directory(current_directory)\n",
    "\n",
    "base_directory"
   ]
  }
 ],
 "metadata": {
  "kernelspec": {
   "display_name": "wifor-platform-kFL7Vwem-py3.11",
   "language": "python",
   "name": "python3"
  },
  "language_info": {
   "codemirror_mode": {
    "name": "ipython",
    "version": 3
   },
   "file_extension": ".py",
   "mimetype": "text/x-python",
   "name": "python",
   "nbconvert_exporter": "python",
   "pygments_lexer": "ipython3",
   "version": "3.11.5"
  }
 },
 "nbformat": 4,
 "nbformat_minor": 2
}
