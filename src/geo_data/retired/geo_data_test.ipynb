{
 "cells": [
  {
   "cell_type": "code",
   "execution_count": null,
   "metadata": {},
   "outputs": [],
   "source": [
    "import geopandas as gpd\n",
    "from geo_data import Regions\n",
    "\n",
    "def save_regions_to_db(geo_df):\n",
    "    # Initialize database session\n",
    "    Session = Regions.init_db()\n",
    "    \n",
    "    if Session is None:\n",
    "        print(\"Database initialization failed.\")\n",
    "        return\n",
    "\n",
    "    with Session() as session:\n",
    "        for _, row in geo_df.iterrows():\n",
    "            # Create an instance of the Regions class\n",
    "            region = Regions(\n",
    "                NUTS_ID=row['NUTS_ID'],\n",
    "                LEVL_CODE=row['LEVL_CODE'],\n",
    "                CNTR_CODE=row['CNTR_CODE'],\n",
    "                NAME_LATN=row['NAME_LATN'],\n",
    "                NUTS_NAME=row['NUTS_NAME'],\n",
    "                MOUNT_TYPE=row['MOUNT_TYPE'],\n",
    "                URBN_TYPE=row['URBN_TYPE'],\n",
    "                COAST_TYPE=row['COAST_TYPE'],\n",
    "                FID=row['FID']\n",
    "                #, geometry=row['geometry']\n",
    "                # Add other fields if necessary\n",
    "            )\n",
    "\n",
    "            # Add the instance to the session\n",
    "            session.add(region)\n",
    "\n",
    "        # Commit the session to save changes to the database\n",
    "        session.commit()\n",
    "        print(\"Data successfully saved to the database.\")\n",
    "\n",
    "# Example usage\n",
    "geo_df = gpd.read_file('..\\\\src\\\\geo_data\\\\ref-nuts-2021\\\\NUTS_RG_01M_2021_4326.geojson')\n",
    "save_regions_to_db(geo_df)\n"
   ]
  },
  {
   "cell_type": "code",
   "execution_count": 1,
   "metadata": {},
   "outputs": [
    {
     "data": {
      "text/plain": [
       "[]"
      ]
     },
     "execution_count": 1,
     "metadata": {},
     "output_type": "execute_result"
    }
   ],
   "source": [
    "from geo_data import Regions\n",
    "\n",
    "Session = Regions.init_db()\n",
    "\n",
    "with Session() as session:\n",
    "    region = session.query(Regions).filter_by(NUTS_ID=\"EU27_2020\").all()\n",
    "\n",
    "# issue with region NO0B recreating similar entry\n",
    "\n",
    "region"
   ]
  },
  {
   "cell_type": "code",
   "execution_count": null,
   "metadata": {},
   "outputs": [],
   "source": [
    "from geo_data import Regions\n",
    "\n",
    "Regions.init_db()().query(Regions).all()"
   ]
  }
 ],
 "metadata": {
  "kernelspec": {
   "display_name": "wifor-platform-kFL7Vwem-py3.11",
   "language": "python",
   "name": "python3"
  },
  "language_info": {
   "codemirror_mode": {
    "name": "ipython",
    "version": 3
   },
   "file_extension": ".py",
   "mimetype": "text/x-python",
   "name": "python",
   "nbconvert_exporter": "python",
   "pygments_lexer": "ipython3",
   "version": "3.11.5"
  }
 },
 "nbformat": 4,
 "nbformat_minor": 2
}
