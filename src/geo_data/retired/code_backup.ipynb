{
 "cells": [
  {
   "cell_type": "code",
   "execution_count": null,
   "metadata": {},
   "outputs": [],
   "source": [
    "with TABLE_CONNECTOR() as tc:\n",
    "    session = tc.session\n",
    "    session.update_child_with_foreign_key(regions, lfst_r_lfe2en2, 'nuts_id')\n",
    "    session.query(lfst_r_lfe2en2).first()"
   ]
  },
  {
   "cell_type": "code",
   "execution_count": null,
   "metadata": {},
   "outputs": [],
   "source": [
    "with TABLE_CONNECTOR() as tc:\n",
    "    session = tc.create_session()\n",
    "    # Define your filters\n",
    "    filters = {\n",
    "        \"freq\": \"A\",\n",
    "        \"nace_r2\": \"A\",\n",
    "        \"age\": \"Y15-24\",\n",
    "        \"sex\": \"F\",\n",
    "        \"unit\": \"THS_PER\"\n",
    "    }\n",
    "\n",
    "    # Construct the query\n",
    "    query = session.query(\n",
    "        lfst_r_lfe2en2.nace_r2,\n",
    "        lfst_r_lfe2en2.age,\n",
    "        lfst_r_lfe2en2.sex,\n",
    "        lfst_r_lfe2en2.nuts_id,\n",
    "        regions.nuts_name\n",
    "    ).join(\n",
    "        regions, lfst_r_lfe2en2.nuts_id == regions.nuts_id\n",
    "    )\n",
    "\n",
    "    # Execute the query and fetch results\n",
    "    results = query.all()\n",
    "\n",
    "# Apply filters to the lfst_r_lfe2en2 part of the query\n",
    "for attr, value in filters.items():\n",
    "    query = query.filter(getattr(lfst_r_lfe2en2, attr) == value)\n",
    "# Print or process the results as needed\n",
    "for result in results:\n",
    "    print(result)"
   ]
  }
 ],
 "metadata": {
  "language_info": {
   "name": "python"
  }
 },
 "nbformat": 4,
 "nbformat_minor": 2
}
